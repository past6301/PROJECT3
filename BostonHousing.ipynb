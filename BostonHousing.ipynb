{
  "nbformat": 4,
  "nbformat_minor": 0,
  "metadata": {
    "colab": {
      "provenance": [],
      "authorship_tag": "ABX9TyNmzOubKFPE/ciCHohVUeLL",
      "include_colab_link": true
    },
    "kernelspec": {
      "name": "python3",
      "display_name": "Python 3"
    },
    "language_info": {
      "name": "python"
    }
  },
  "cells": [
    {
      "cell_type": "markdown",
      "metadata": {
        "id": "view-in-github",
        "colab_type": "text"
      },
      "source": [
        "<a href=\"https://colab.research.google.com/github/past6301/PROJECT3/blob/main/BostonHousing.ipynb\" target=\"_parent\"><img src=\"https://colab.research.google.com/assets/colab-badge.svg\" alt=\"Open In Colab\"/></a>"
      ]
    },
    {
      "cell_type": "code",
      "execution_count": null,
      "metadata": {
        "id": "pQrN8HBruIQD",
        "colab": {
          "base_uri": "https://localhost:8080/"
        },
        "outputId": "a22b6101-401b-44ac-b2a5-b9679ff1a9c5"
      },
      "outputs": [
        {
          "output_type": "stream",
          "name": "stdout",
          "text": [
            "Mounted at /content/drive\n"
          ]
        }
      ],
      "source": [
        "from google.colab import drive\n",
        "drive.mount('/content/drive')"
      ]
    },
    {
      "cell_type": "code",
      "source": [
        "import pandas as pd\n",
        "data=pd.read_csv(\"/content/drive/MyDrive/Datasets/Iris.csv\")"
      ],
      "metadata": {
        "id": "MEq6bo8huTll"
      },
      "execution_count": null,
      "outputs": []
    },
    {
      "cell_type": "code",
      "source": [
        "data.describe()"
      ],
      "metadata": {
        "id": "yQfxdTo_uz_k"
      },
      "execution_count": null,
      "outputs": []
    },
    {
      "cell_type": "code",
      "source": [
        "data.info()"
      ],
      "metadata": {
        "id": "l6VqyfTAu4Tn"
      },
      "execution_count": null,
      "outputs": []
    },
    {
      "cell_type": "code",
      "source": [
        "X=data.drop(['Id', 'Species'], axis=1)\n",
        "X.head()"
      ],
      "metadata": {
        "id": "0mz9DoOLu7Q2"
      },
      "execution_count": null,
      "outputs": []
    },
    {
      "cell_type": "code",
      "source": [
        "Y=data['Species']"
      ],
      "metadata": {
        "id": "1utWKIubvYoY"
      },
      "execution_count": null,
      "outputs": []
    },
    {
      "cell_type": "code",
      "source": [
        "X.shape"
      ],
      "metadata": {
        "id": "2Uvr6X5tvfFY"
      },
      "execution_count": null,
      "outputs": []
    },
    {
      "cell_type": "code",
      "source": [
        "Y.shape"
      ],
      "metadata": {
        "id": "KA34U5C8vqfd"
      },
      "execution_count": null,
      "outputs": []
    },
    {
      "cell_type": "code",
      "source": [
        "X.isnull().sum()"
      ],
      "metadata": {
        "id": "PYe6wrjBv0TE"
      },
      "execution_count": null,
      "outputs": []
    },
    {
      "cell_type": "code",
      "source": [
        "c=pd.plotting.scatter_matrix(data,alpha=0.2,figsize=(17,17),diagonal='hist')"
      ],
      "metadata": {
        "id": "fnRu_CwJwIBf"
      },
      "execution_count": null,
      "outputs": []
    },
    {
      "cell_type": "code",
      "source": [
        "import matplotlib.pyplot as plt\n",
        "import seaborn as sns\n",
        "corr=data.corr()\n",
        "print(corr)\n",
        "plt.figure(figsize=(12,12))\n",
        "sns.heatmap(corr,annot=True,vmin=-1.0,vmax=1.0)\n",
        "plt.show()"
      ],
      "metadata": {
        "id": "PA4nU0_gOE4R"
      },
      "execution_count": null,
      "outputs": []
    },
    {
      "cell_type": "code",
      "source": [
        "from sklearn.preprocessing import LabelEncoder\n",
        "lb=LabelEncoder()\n",
        "Y=lb.fit_transform(Y)\n",
        "print(Y)"
      ],
      "metadata": {
        "id": "njrcTe8Rw8gR"
      },
      "execution_count": null,
      "outputs": []
    },
    {
      "cell_type": "code",
      "source": [
        "from sklearn.model_selection import train_test_split\n",
        "X_train,X_test,Y_train,Y_test=train_test_split(X,Y,test_size=0.2,random_state=0)\n",
        "print(X_train.shape)\n",
        "print(Y_train.shape)\n",
        "print(X_test.shape)\n",
        "print(Y_test.shape)"
      ],
      "metadata": {
        "id": "ApubKpUsxX6Z"
      },
      "execution_count": null,
      "outputs": []
    },
    {
      "cell_type": "code",
      "source": [
        "from keras.backend import dropout\n",
        "import keras\n",
        "from keras.models import Sequential\n",
        "from keras.layers import Dense,Dropout\n",
        "input_shape=X_train.shape[1]\n",
        "model=Sequential()\n",
        "#model.add(Dense(2048, activation='relu', input_dim=4))\n",
        "model.add(Dense(1024, activation='relu', input_dim=4))\n",
        "model.add(Dense(512, activation='relu'))\n",
        "model.add(Dropout(0.1))\n",
        "model.add(Dense(256, activation='relu'))\n",
        "model.add(Dropout(0.1))\n",
        "model.add(Dense(128, activation='relu'))\n",
        "model.add(Dropout(0.1))\n",
        "model.add(Dense(64, activation='relu'))\n",
        "model.add(Dropout(0.1))\n",
        "model.add(Dense(32,activation='relu'))\n",
        "model.add(Dropout(0.1))\n",
        "model.add(Dense(1))\n",
        "\n",
        "#optimizers\n",
        "#model.compile(optimizer='Adam',loss='mse', metrics=['accuracy'])\n",
        "#model.compile(optimizer='Adadelta',loss='mse', metrics=['accuracy'])\n",
        "#model.compile(optimizer='SGD',loss='mse', metrics=['accuracy'])\n",
        "model.compile(optimizer='RMSProp',loss='mse', metrics=['accuracy'])\n",
        "#model.compile(optimizer='ADAMax',loss='mse', metrics=['accuracy'])\n",
        "\n",
        "history=model.fit(X_train,Y_train,validation_data=(X_test,Y_test),batch_size=64,epochs=150,verbose=1)"
      ],
      "metadata": {
        "id": "O0lgge5xzUcC"
      },
      "execution_count": null,
      "outputs": []
    },
    {
      "cell_type": "code",
      "source": [
        "loss,accuracy=model.evaluate(X_test,Y_test)\n",
        "print(\"accuracy\",(accuracy*100),\"%\")\n",
        "print(\"loss\",loss)"
      ],
      "metadata": {
        "id": "Lr8PRQeSzuh7"
      },
      "execution_count": null,
      "outputs": []
    },
    {
      "cell_type": "code",
      "source": [
        "import matplotlib.pyplot as plt\n",
        "loss=history.history['loss']\n",
        "val_loss=history.history['val_loss']\n",
        "epochs=range(1,1+len(loss))\n",
        "plt.plot(epochs,loss,'y',label='Training loss')\n",
        "plt.plot(epochs,val_loss,'r',label='validation loss')\n",
        "plt.xlabel('epochs')\n",
        "plt.ylabel('loss')\n",
        "plt.title(\"Training vs Validation Loss\")\n",
        "plt.legend()\n",
        "plt.show()"
      ],
      "metadata": {
        "colab": {
          "base_uri": "https://localhost:8080/",
          "height": 295
        },
        "id": "lcn6AHEQ0K_V",
        "outputId": "947945b3-3621-41e9-e5a8-299edd9b76b3"
      },
      "execution_count": null,
      "outputs": [
        {
          "output_type": "display_data",
          "data": {
            "text/plain": [
              "<Figure size 432x288 with 1 Axes>"
            ],
            "image/png": "[encoded data removed]"
          },
          "metadata": {
            "needs_background": "light"
          }
        }
      ]
    },
    {
      "cell_type": "markdown",
      "source": [
        "**Show predicted value vs test value**"
      ],
      "metadata": {
        "id": "mvahRZUl71HQ"
      }
    },
    {
      "cell_type": "code",
      "source": [
        "import numpy as np\n",
        "from numpy import argmax\n",
        "pred=model.predict(X_test)\n",
        "pred=np.argmax(pred,axis=1)\n",
        "print(pred[2])\n",
        "print(Y_test[2])"
      ],
      "metadata": {
        "colab": {
          "base_uri": "https://localhost:8080/"
        },
        "id": "D-eN1XrRKlhR",
        "outputId": "ddfc7241-c642-4b27-e8df-10838ed37989"
      },
      "execution_count": null,
      "outputs": [
        {
          "output_type": "stream",
          "name": "stdout",
          "text": [
            "0\n",
            "0\n"
          ]
        }
      ]
    }
  ]
}